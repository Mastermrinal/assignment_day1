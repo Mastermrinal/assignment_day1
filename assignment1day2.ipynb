{
  "nbformat": 4,
  "nbformat_minor": 0,
  "metadata": {
    "colab": {
      "provenance": [],
      "authorship_tag": "ABX9TyOs3fAAE8Ocu07B/AjhjJVY",
      "include_colab_link": true
    },
    "kernelspec": {
      "name": "python3",
      "display_name": "Python 3"
    },
    "language_info": {
      "name": "python"
    }
  },
  "cells": [
    {
      "cell_type": "markdown",
      "metadata": {
        "id": "view-in-github",
        "colab_type": "text"
      },
      "source": [
        "<a href=\"https://colab.research.google.com/github/Mastermrinal/assignment_day1/blob/main/assignment1day2.ipynb\" target=\"_parent\"><img src=\"https://colab.research.google.com/assets/colab-badge.svg\" alt=\"Open In Colab\"/></a>"
      ]
    },
    {
      "cell_type": "code",
      "execution_count": null,
      "metadata": {
        "id": "4h8ZjgZGkOu8"
      },
      "outputs": [],
      "source": [
        "##PYTHON ASSIGNMENT 1"
      ]
    },
    {
      "cell_type": "code",
      "source": [
        "#Q1. L is a list defined as L= [11, 12, 13, 14].\n",
        "#(i) WAP to add 50 and 60 to L. \n",
        "#(ii) WAP to remove 11 and 13from L.\n",
        "#(iii) WAP to sort L in ascending order.\n",
        "#(iv) WAP to sort L in descending order.\n",
        "#(v) WAP to search for 13 in L.\n",
        "#(vi) WAP to count the number of elements present in L.\n",
        "#(vii) WAP to sum all the elements in L.\n",
        "#(viii) WAP to sum all ODD numbers in L.\n",
        "#(ix) WAP to sum all EVEN numbers in L.\n",
        "#(x) WAP to sum all PRIME numbers in L.\n",
        "#(xi) WAP to clear all the elements in L.\n",
        "#(xii) WAP to delete L."
      ],
      "metadata": {
        "id": "NaZc76eaka0D"
      },
      "execution_count": null,
      "outputs": []
    },
    {
      "cell_type": "code",
      "source": [
        "L=[11,12,13,14]"
      ],
      "metadata": {
        "id": "mcn-wEwtmVpm"
      },
      "execution_count": null,
      "outputs": []
    },
    {
      "cell_type": "code",
      "source": [
        "#i)\n",
        "L.append(50)\n",
        "print(L)\n",
        "L.append(60)\n",
        "print(L)"
      ],
      "metadata": {
        "colab": {
          "base_uri": "https://localhost:8080/"
        },
        "id": "OuEQT9eWnsDy",
        "outputId": "9b0baf52-7347-4b96-bcb3-3adacf616fcb"
      },
      "execution_count": null,
      "outputs": [
        {
          "output_type": "stream",
          "name": "stdout",
          "text": [
            "[11, 12, 13, 14, 50]\n",
            "[11, 12, 13, 14, 50, 60]\n"
          ]
        }
      ]
    },
    {
      "cell_type": "code",
      "source": [
        "print(L)"
      ],
      "metadata": {
        "colab": {
          "base_uri": "https://localhost:8080/"
        },
        "id": "ActngMk5ny3h",
        "outputId": "c3a5c30e-083d-4311-8f29-78dc909f331a"
      },
      "execution_count": null,
      "outputs": [
        {
          "output_type": "stream",
          "name": "stdout",
          "text": [
            "[11, 12, 13, 14, 50, 60]\n"
          ]
        }
      ]
    },
    {
      "cell_type": "code",
      "source": [
        "#ii)\n",
        "del L[0]\n",
        "print(L)"
      ],
      "metadata": {
        "colab": {
          "base_uri": "https://localhost:8080/"
        },
        "id": "2oQ5522pn032",
        "outputId": "a222c4be-b93e-4488-cf1f-fb3837f51ef6"
      },
      "execution_count": null,
      "outputs": [
        {
          "output_type": "stream",
          "name": "stdout",
          "text": [
            "[12, 13, 14, 50, 60]\n"
          ]
        }
      ]
    },
    {
      "cell_type": "code",
      "source": [
        "##ii)\n",
        "del L[1]\n",
        "print(L)"
      ],
      "metadata": {
        "colab": {
          "base_uri": "https://localhost:8080/"
        },
        "id": "UtAIH9M9oOJF",
        "outputId": "f66248e1-5e2c-429d-a246-407b0d95841a"
      },
      "execution_count": null,
      "outputs": [
        {
          "output_type": "stream",
          "name": "stdout",
          "text": [
            "[12, 14, 50, 60]\n"
          ]
        }
      ]
    },
    {
      "cell_type": "code",
      "source": [
        "##iii)\n",
        "L.sort()\n",
        "print(\"in assending order---->\", L)"
      ],
      "metadata": {
        "colab": {
          "base_uri": "https://localhost:8080/"
        },
        "id": "vWqDHL6KoZYM",
        "outputId": "23a73596-fa94-46b9-98a9-ee73181917da"
      },
      "execution_count": null,
      "outputs": [
        {
          "output_type": "stream",
          "name": "stdout",
          "text": [
            "in assending order----> [12, 14, 50, 60]\n"
          ]
        }
      ]
    },
    {
      "cell_type": "code",
      "source": [
        "##iv)\n",
        "L.sort(reverse=True)\n",
        "print (\"Desending order --> \", L)"
      ],
      "metadata": {
        "colab": {
          "base_uri": "https://localhost:8080/"
        },
        "id": "cD3O8JlnpOmO",
        "outputId": "37231818-b72c-4ad0-a57b-f67a2ea99d13"
      },
      "execution_count": null,
      "outputs": [
        {
          "output_type": "stream",
          "name": "stdout",
          "text": [
            "Desending order -->  [60, 50, 14, 12]\n"
          ]
        }
      ]
    },
    {
      "cell_type": "code",
      "source": [
        "#v)\n",
        "LL=[11, 12, 13, 14, 50, 60]\n",
        "a= int(input(\"enter the number to search\"))\n",
        "if a in LL:\n",
        "  print(\"the number is presant\")\n",
        "else:\n",
        "  print(\"doesnt exist\")\n",
        "\n",
        "\n",
        "\n",
        "\n"
      ],
      "metadata": {
        "id": "hg4RIXZqpkd0",
        "colab": {
          "base_uri": "https://localhost:8080/"
        },
        "outputId": "39dbfe0f-5bed-4735-b92f-b57b699adb4d"
      },
      "execution_count": null,
      "outputs": [
        {
          "output_type": "stream",
          "name": "stdout",
          "text": [
            "enter the number to search13\n",
            "the number is presant\n"
          ]
        }
      ]
    },
    {
      "cell_type": "code",
      "source": [
        "#vi)\n",
        "len(LL)"
      ],
      "metadata": {
        "colab": {
          "base_uri": "https://localhost:8080/"
        },
        "id": "wbEoieBCGYZs",
        "outputId": "1c1ca120-2e41-4b07-af90-16f654c7f82b"
      },
      "execution_count": null,
      "outputs": [
        {
          "output_type": "execute_result",
          "data": {
            "text/plain": [
              "6"
            ]
          },
          "metadata": {},
          "execution_count": 10
        }
      ]
    },
    {
      "cell_type": "code",
      "source": [
        "#vii)\n",
        "sum=0\n",
        "for i in LL:\n",
        "  sum=sum+i\n",
        "  print(sum)"
      ],
      "metadata": {
        "colab": {
          "base_uri": "https://localhost:8080/"
        },
        "id": "fiG9UFxDHVfd",
        "outputId": "507a9299-9cff-43c1-c4a7-6ea15893001b"
      },
      "execution_count": null,
      "outputs": [
        {
          "output_type": "stream",
          "name": "stdout",
          "text": [
            "11\n",
            "23\n",
            "36\n",
            "50\n",
            "100\n",
            "160\n"
          ]
        }
      ]
    },
    {
      "cell_type": "code",
      "source": [
        "##viii) and ix)\n",
        "LL=[11, 12, 13, 14, 50, 60]\n",
        "even=0\n",
        "odd=0\n",
        "for i in LL:\n",
        "    if(i%2==0):\n",
        "        even=even+i\n",
        "    else:\n",
        "        odd=odd+i\n",
        "print(even,odd)"
      ],
      "metadata": {
        "colab": {
          "base_uri": "https://localhost:8080/"
        },
        "id": "T-2F8twiIOOT",
        "outputId": "c7c18a7a-327f-4b75-d13d-00c6d9a8bc26"
      },
      "execution_count": null,
      "outputs": [
        {
          "output_type": "stream",
          "name": "stdout",
          "text": [
            "136 24\n"
          ]
        }
      ]
    },
    {
      "cell_type": "code",
      "source": [
        "#x)\n",
        "LL=[11, 12, 13, 14, 50, 60]\n",
        "Prime=[]\n",
        "sum=0\n",
        "for i in LL:\n",
        "  c=0\n",
        "  for j in range(1,i):\n",
        "    if i%j==0:\n",
        "      c=c+1\n",
        "  if c==1:\n",
        "    Prime.append(i)\n",
        "    print(Prime)\n",
        "for k in Prime:\n",
        "  sum=sum+k\n",
        "  print(\"sum of prime number is --->. \",sum)\n",
        "      \n",
        "      "
      ],
      "metadata": {
        "colab": {
          "base_uri": "https://localhost:8080/"
        },
        "id": "lEQ_IZlsSz4u",
        "outputId": "6cef6462-bfe9-4f56-b7e2-c41fca15540b"
      },
      "execution_count": null,
      "outputs": [
        {
          "output_type": "stream",
          "name": "stdout",
          "text": [
            "[11]\n",
            "[11, 13]\n",
            "sum of prime number is --->.  11\n",
            "sum of prime number is --->.  24\n"
          ]
        }
      ]
    },
    {
      "cell_type": "code",
      "source": [
        "##Q2)\n",
        " ##D is a dictionary defined as D= {1:5.6, 2:7.8, 3:6.6, 4:8.7, 5:7.7}.\n",
        "##(i) WAP to add new entry in D; key=8 and value is 8.8\n",
        "##(ii) WAP to remove key=2.\n",
        "##(iii) WAP to check weather 6 key is present in D.\n",
        "##(iv) WAP to count the number of elements present in D.\n",
        "##(v) WAP to add all the values present D.\n",
        "##(vi) WAP to update the value of 3 to 7.1.\n",
        "##(vii) WAP to clear the dictionary."
      ],
      "metadata": {
        "id": "Hi7VbcB3UxKX"
      },
      "execution_count": null,
      "outputs": []
    },
    {
      "cell_type": "code",
      "source": [
        "D= {1:5.6, 2:7.8, 3:6.6, 4:8.7, 5:7.7}"
      ],
      "metadata": {
        "id": "BHiU9JSBWx31"
      },
      "execution_count": null,
      "outputs": []
    },
    {
      "cell_type": "code",
      "source": [
        "#i)\n",
        "D[8]=8.8\n",
        "print(D)"
      ],
      "metadata": {
        "colab": {
          "base_uri": "https://localhost:8080/"
        },
        "id": "YdiAOUc7W36f",
        "outputId": "c0fee29c-ae7b-4119-bbe8-735641a722ae"
      },
      "execution_count": null,
      "outputs": [
        {
          "output_type": "stream",
          "name": "stdout",
          "text": [
            "{1: 5.6, 2: 7.8, 3: 6.6, 4: 8.7, 5: 7.7, 8: 8.8}\n"
          ]
        }
      ]
    },
    {
      "cell_type": "code",
      "source": [
        "#ii)\n",
        "del D[2]\n",
        "print(D)\n"
      ],
      "metadata": {
        "colab": {
          "base_uri": "https://localhost:8080/"
        },
        "id": "4KpZrf5bZzkX",
        "outputId": "7a800dbe-e66a-49fa-a6ff-4313a22338dd"
      },
      "execution_count": null,
      "outputs": [
        {
          "output_type": "stream",
          "name": "stdout",
          "text": [
            "{1: 5.6, 3: 6.6, 4: 8.7, 5: 7.7, 8: 8.8}\n"
          ]
        }
      ]
    },
    {
      "cell_type": "code",
      "source": [
        "##iii)\n",
        "D= {1:5.6, 2:7.8, 3:6.6, 4:8.7, 5:7.7}\n",
        " \n",
        "# check if \"6\" is none or not.\n",
        "if D.get(6) == None:\n",
        "  print(\"Not Present\")\n",
        "else:\n",
        "  print(\"Present\")"
      ],
      "metadata": {
        "colab": {
          "base_uri": "https://localhost:8080/"
        },
        "id": "3ZBxl6vpZ8hv",
        "outputId": "c21e8b10-8916-40e8-b42e-7f5878928030"
      },
      "execution_count": null,
      "outputs": [
        {
          "output_type": "stream",
          "name": "stdout",
          "text": [
            "Not Present\n"
          ]
        }
      ]
    },
    {
      "cell_type": "code",
      "source": [
        "##iv)\n",
        "print(\"number of elements\",len(D))"
      ],
      "metadata": {
        "colab": {
          "base_uri": "https://localhost:8080/"
        },
        "id": "Sv9Dnh9sbQqe",
        "outputId": "78e2b03b-9ecc-4823-f26e-1e69d12fb739"
      },
      "execution_count": null,
      "outputs": [
        {
          "output_type": "stream",
          "name": "stdout",
          "text": [
            "number of elements 5\n"
          ]
        }
      ]
    },
    {
      "cell_type": "code",
      "source": [
        "##v)\n",
        "D={1: 5.6, 2: 7.8, 3: 6.6, 4: 8.7, 5: 7.7, 8: 8.8}\n",
        "print(\"all values\",list(D.values()))\n"
      ],
      "metadata": {
        "colab": {
          "base_uri": "https://localhost:8080/"
        },
        "id": "lH4tXSVAcgQt",
        "outputId": "91721624-96ce-4417-99ff-9f1caf0325ca"
      },
      "execution_count": null,
      "outputs": [
        {
          "output_type": "stream",
          "name": "stdout",
          "text": [
            "all values [5.6, 7.8, 6.6, 8.7, 7.7, 8.8]\n"
          ]
        }
      ]
    },
    {
      "cell_type": "code",
      "source": [
        "sum(list(D.values()))"
      ],
      "metadata": {
        "colab": {
          "base_uri": "https://localhost:8080/",
          "height": 201
        },
        "id": "fBlVLLPdfV12",
        "outputId": "d47fadc4-2763-44ba-e786-9023d67e1273"
      },
      "execution_count": null,
      "outputs": [
        {
          "output_type": "error",
          "ename": "TypeError",
          "evalue": "ignored",
          "traceback": [
            "\u001b[0;31m---------------------------------------------------------------------------\u001b[0m",
            "\u001b[0;31mTypeError\u001b[0m                                 Traceback (most recent call last)",
            "\u001b[0;32m<ipython-input-78-9d3a12081a62>\u001b[0m in \u001b[0;36m<cell line: 1>\u001b[0;34m()\u001b[0m\n\u001b[0;32m----> 1\u001b[0;31m \u001b[0msum\u001b[0m\u001b[0;34m(\u001b[0m\u001b[0mlist\u001b[0m\u001b[0;34m(\u001b[0m\u001b[0mD\u001b[0m\u001b[0;34m.\u001b[0m\u001b[0mvalues\u001b[0m\u001b[0;34m(\u001b[0m\u001b[0;34m)\u001b[0m\u001b[0;34m)\u001b[0m\u001b[0;34m)\u001b[0m\u001b[0;34m\u001b[0m\u001b[0;34m\u001b[0m\u001b[0m\n\u001b[0m",
            "\u001b[0;31mTypeError\u001b[0m: 'int' object is not callable"
          ]
        }
      ]
    },
    {
      "cell_type": "code",
      "source": [
        "##vi)\n",
        "D={1: 5.6, 2: 7.8, 3: 6.6, 4: 8.7, 5: 7.7, 8: 8.8}\n",
        "D.update({3:7.1})\n",
        "print(D)"
      ],
      "metadata": {
        "colab": {
          "base_uri": "https://localhost:8080/"
        },
        "id": "OxOnfWkKghKo",
        "outputId": "8a1a9931-b21d-479f-dfb3-fe9bb29d1734"
      },
      "execution_count": null,
      "outputs": [
        {
          "output_type": "stream",
          "name": "stdout",
          "text": [
            "{1: 5.6, 2: 7.8, 3: 7.1, 4: 8.7, 5: 7.7, 8: 8.8}\n"
          ]
        }
      ]
    },
    {
      "cell_type": "code",
      "source": [
        "#O3)\n",
        "#S1 is a set defined as S1= [10, 20, 30, 40, 50, 60].\n",
        " #S2 is a set defined as S2= [40, 50, 60, 70, 80, 90].\n",
        "#(i) WAP to add 55 and 66 in Set S1.\n",
        "#(ii) WAP to remove 10 and 30 from Set S1.\n",
        "#(iii) WAP to check whether 40 is present in S1.\n",
        "#(iv) WAP to find the union between S1 and S2.\n",
        "#(v) WAP to find the intersection between S1 and S2.\n",
        "#(vi) WAP to find the S1 - S2."
      ],
      "metadata": {
        "id": "7I-VktLyhXyA"
      },
      "execution_count": null,
      "outputs": []
    },
    {
      "cell_type": "code",
      "source": [
        "S1={10, 20, 30, 40, 50, 60}\n"
      ],
      "metadata": {
        "id": "nRvwUKqHhvwQ"
      },
      "execution_count": null,
      "outputs": []
    },
    {
      "cell_type": "code",
      "source": [
        "#i)\n",
        "S1.add(55)\n",
        "print(S1)\n",
        "S1.add(66)\n",
        "print(S1)"
      ],
      "metadata": {
        "colab": {
          "base_uri": "https://localhost:8080/"
        },
        "id": "G0sXlJZJiNvN",
        "outputId": "7090b9e9-7f68-4f56-cc2e-481ed42709cb"
      },
      "execution_count": null,
      "outputs": [
        {
          "output_type": "stream",
          "name": "stdout",
          "text": [
            "{50, 20, 55, 40, 10, 60, 30}\n",
            "{50, 66, 20, 55, 40, 10, 60, 30}\n"
          ]
        }
      ]
    },
    {
      "cell_type": "code",
      "source": [
        "S1.discard(10)\n",
        "print(S1)\n",
        "S1.discard(30)\n",
        "print(S1)"
      ],
      "metadata": {
        "colab": {
          "base_uri": "https://localhost:8080/"
        },
        "id": "aJ1v7M16i41X",
        "outputId": "c13ec562-c797-4f2d-aee8-5375fab04d53"
      },
      "execution_count": null,
      "outputs": [
        {
          "output_type": "stream",
          "name": "stdout",
          "text": [
            "{50, 66, 20, 55, 40, 60, 30}\n",
            "{50, 66, 20, 55, 40, 60}\n"
          ]
        }
      ]
    },
    {
      "cell_type": "code",
      "source": [
        "print(40 in S1)"
      ],
      "metadata": {
        "colab": {
          "base_uri": "https://localhost:8080/"
        },
        "id": "ydv0-O5UkLn4",
        "outputId": "7910d009-dcd4-4764-9bc7-b0b7832713ae"
      },
      "execution_count": null,
      "outputs": [
        {
          "output_type": "stream",
          "name": "stdout",
          "text": [
            "True\n"
          ]
        }
      ]
    },
    {
      "cell_type": "code",
      "source": [
        "S1= {10, 20, 30, 40, 50, 60}\n",
        "S2= {40, 50, 60, 70, 80, 90}\n",
        "print(\"union of S1 and S2\", S1.union(S2))"
      ],
      "metadata": {
        "colab": {
          "base_uri": "https://localhost:8080/"
        },
        "id": "2K80d8l-kjTO",
        "outputId": "1d1e8b17-e2fb-4b19-acfb-d3dfbf501594"
      },
      "execution_count": null,
      "outputs": [
        {
          "output_type": "stream",
          "name": "stdout",
          "text": [
            "union of S1 and S2 {70, 40, 10, 80, 50, 20, 90, 60, 30}\n"
          ]
        }
      ]
    },
    {
      "cell_type": "code",
      "source": [
        "S1= {10, 20, 30, 40, 50, 60}\n",
        "S2= {40, 50, 60, 70, 80, 90}\n",
        "print(\"union of S1 and S2\", S1.intersection(S2))"
      ],
      "metadata": {
        "colab": {
          "base_uri": "https://localhost:8080/"
        },
        "id": "6QubSs6PlCXz",
        "outputId": "ce3c5fc3-bd45-4e23-f4cd-3dab66895b28"
      },
      "execution_count": null,
      "outputs": [
        {
          "output_type": "stream",
          "name": "stdout",
          "text": [
            "union of S1 and S2 {40, 50, 60}\n"
          ]
        }
      ]
    },
    {
      "cell_type": "code",
      "source": [
        "S1= {10, 20, 30, 40, 50, 60}\n",
        "S2= {40, 50, 60, 70, 80, 90}\n",
        "print(\"union of S1 and S2\", S1.difference(S2))"
      ],
      "metadata": {
        "colab": {
          "base_uri": "https://localhost:8080/"
        },
        "id": "JxDJtVndlIou",
        "outputId": "ffdb0fcf-a08e-4f2e-b174-d1bb9231505e"
      },
      "execution_count": null,
      "outputs": [
        {
          "output_type": "stream",
          "name": "stdout",
          "text": [
            "union of S1 and S2 {10, 20, 30}\n"
          ]
        }
      ]
    },
    {
      "cell_type": "code",
      "source": [
        "#4)\n",
        "#Write the following program.\n",
        "#(i) WAP to print 100 random strings whose length between 6 and 8.\n",
        "#(ii) WAP to print all prime numbers between 600 and 800.\n",
        "#(iii) WAP to print all numbers between 100 and 1000 that are divisible by 7 and 9."
      ],
      "metadata": {
        "id": "j8YLYI1PlO5P"
      },
      "execution_count": null,
      "outputs": []
    },
    {
      "cell_type": "code",
      "source": [
        "import string as s\n",
        "import random as r\n",
        "print (\"Digits --> \",s.digits(6,8))"
      ],
      "metadata": {
        "colab": {
          "base_uri": "https://localhost:8080/",
          "height": 235
        },
        "id": "tgNKIW9ElhlK",
        "outputId": "745155e7-7850-4e01-952f-b297214f8dce"
      },
      "execution_count": null,
      "outputs": [
        {
          "output_type": "error",
          "ename": "TypeError",
          "evalue": "ignored",
          "traceback": [
            "\u001b[0;31m---------------------------------------------------------------------------\u001b[0m",
            "\u001b[0;31mTypeError\u001b[0m                                 Traceback (most recent call last)",
            "\u001b[0;32m<ipython-input-98-8012b07f1a91>\u001b[0m in \u001b[0;36m<cell line: 3>\u001b[0;34m()\u001b[0m\n\u001b[1;32m      1\u001b[0m \u001b[0;32mimport\u001b[0m \u001b[0mstring\u001b[0m \u001b[0;32mas\u001b[0m \u001b[0ms\u001b[0m\u001b[0;34m\u001b[0m\u001b[0;34m\u001b[0m\u001b[0m\n\u001b[1;32m      2\u001b[0m \u001b[0;32mimport\u001b[0m \u001b[0mrandom\u001b[0m \u001b[0;32mas\u001b[0m \u001b[0mr\u001b[0m\u001b[0;34m\u001b[0m\u001b[0;34m\u001b[0m\u001b[0m\n\u001b[0;32m----> 3\u001b[0;31m \u001b[0mprint\u001b[0m \u001b[0;34m(\u001b[0m\u001b[0;34m\"Digits --> \"\u001b[0m\u001b[0;34m,\u001b[0m\u001b[0ms\u001b[0m\u001b[0;34m.\u001b[0m\u001b[0mdigits\u001b[0m\u001b[0;34m(\u001b[0m\u001b[0;36m6\u001b[0m\u001b[0;34m,\u001b[0m\u001b[0;36m8\u001b[0m\u001b[0;34m)\u001b[0m\u001b[0;34m)\u001b[0m\u001b[0;34m\u001b[0m\u001b[0;34m\u001b[0m\u001b[0m\n\u001b[0m",
            "\u001b[0;31mTypeError\u001b[0m: 'str' object is not callable"
          ]
        }
      ]
    },
    {
      "cell_type": "code",
      "source": [
        "starting_range = 600\n",
        "ending_range = 800\n",
        "lst = Prime(starting_range, ending_range)\n",
        "if len(lst) == 0:\n",
        "    print(\"There are no prime numbers in this range\")\n",
        "else:\n",
        "    print(\"The prime numbers in this range are: \", lst)\n",
        "def prime(x, y):\n",
        "    prime_list = []\n",
        "    for i in range(x, y):\n",
        "        if i == 0 or i == 1:\n",
        "            continue\n",
        "        else:\n",
        "            for j in range(2, int(i/2)+1):\n",
        "                if i % j == 0:\n",
        "                    break\n",
        "            else:\n",
        "                prime_list.append(i)\n",
        "    return prime_list    \n",
        "    "
      ],
      "metadata": {
        "colab": {
          "base_uri": "https://localhost:8080/",
          "height": 270
        },
        "id": "gqpfC_AgmG6-",
        "outputId": "8df8e1da-98ff-43e3-8d96-5dd9d69b11f3"
      },
      "execution_count": null,
      "outputs": [
        {
          "output_type": "error",
          "ename": "TypeError",
          "evalue": "ignored",
          "traceback": [
            "\u001b[0;31m---------------------------------------------------------------------------\u001b[0m",
            "\u001b[0;31mTypeError\u001b[0m                                 Traceback (most recent call last)",
            "\u001b[0;32m<ipython-input-100-9df234c95188>\u001b[0m in \u001b[0;36m<cell line: 3>\u001b[0;34m()\u001b[0m\n\u001b[1;32m      1\u001b[0m \u001b[0mstarting_range\u001b[0m \u001b[0;34m=\u001b[0m \u001b[0;36m600\u001b[0m\u001b[0;34m\u001b[0m\u001b[0;34m\u001b[0m\u001b[0m\n\u001b[1;32m      2\u001b[0m \u001b[0mending_range\u001b[0m \u001b[0;34m=\u001b[0m \u001b[0;36m800\u001b[0m\u001b[0;34m\u001b[0m\u001b[0;34m\u001b[0m\u001b[0m\n\u001b[0;32m----> 3\u001b[0;31m \u001b[0mlst\u001b[0m \u001b[0;34m=\u001b[0m \u001b[0mPrime\u001b[0m\u001b[0;34m(\u001b[0m\u001b[0mstarting_range\u001b[0m\u001b[0;34m,\u001b[0m \u001b[0mending_range\u001b[0m\u001b[0;34m)\u001b[0m\u001b[0;34m\u001b[0m\u001b[0;34m\u001b[0m\u001b[0m\n\u001b[0m\u001b[1;32m      4\u001b[0m \u001b[0;32mif\u001b[0m \u001b[0mlen\u001b[0m\u001b[0;34m(\u001b[0m\u001b[0mlst\u001b[0m\u001b[0;34m)\u001b[0m \u001b[0;34m==\u001b[0m \u001b[0;36m0\u001b[0m\u001b[0;34m:\u001b[0m\u001b[0;34m\u001b[0m\u001b[0;34m\u001b[0m\u001b[0m\n\u001b[1;32m      5\u001b[0m     \u001b[0mprint\u001b[0m\u001b[0;34m(\u001b[0m\u001b[0;34m\"There are no prime numbers in this range\"\u001b[0m\u001b[0;34m)\u001b[0m\u001b[0;34m\u001b[0m\u001b[0;34m\u001b[0m\u001b[0m\n",
            "\u001b[0;31mTypeError\u001b[0m: 'list' object is not callable"
          ]
        }
      ]
    },
    {
      "cell_type": "code",
      "source": [
        "#WAP to create two lists of 10 random numbers between 10 and 30; Find \n",
        "#(i) Common numbers in the two lists\n",
        "#(ii) Unique numbers in both the list\n",
        "#(iii) Minimum in both the list\n",
        "#(iv) Maximum in both the list\n",
        "#(v) Sum of both the lists"
      ],
      "metadata": {
        "id": "nQUPb6Jb1k_X"
      },
      "execution_count": null,
      "outputs": []
    },
    {
      "cell_type": "code",
      "source": [
        "import random\n",
        "num = 10\n",
        "start = 10\n",
        "end =30\n",
        "def Rand(start, end, num):\n",
        "    res = []\n",
        " \n",
        "    for j in range(num):\n",
        "        res.append(random.randint(start, end))\n",
        " \n",
        "    return res\n",
        "print(Rand(start, end, num))"
      ],
      "metadata": {
        "colab": {
          "base_uri": "https://localhost:8080/"
        },
        "id": "4R2HeCqt2M-9",
        "outputId": "73f55972-8ca9-4ce0-f23c-4482bcc21040"
      },
      "execution_count": null,
      "outputs": [
        {
          "output_type": "stream",
          "name": "stdout",
          "text": [
            "[28, 12, 13, 22, 25, 29, 12, 24, 24, 14]\n"
          ]
        }
      ]
    },
    {
      "cell_type": "code",
      "source": [
        "import random\n",
        "num = 10\n",
        "start = 10\n",
        "end =30\n",
        "def Rand(start, end, num):\n",
        "    res = []\n",
        " \n",
        "    for j in range(num):\n",
        "        res.append(random.randint(start, end))\n",
        " \n",
        "    return res\n",
        "print(Rand(start, end, num))"
      ],
      "metadata": {
        "colab": {
          "base_uri": "https://localhost:8080/"
        },
        "id": "2IvQCniK3I-E",
        "outputId": "f00f0953-ebcc-44f2-a277-9fdb07d31152"
      },
      "execution_count": null,
      "outputs": [
        {
          "output_type": "stream",
          "name": "stdout",
          "text": [
            "[16, 20, 17, 20, 12, 14, 20, 11, 22, 10]\n"
          ]
        }
      ]
    },
    {
      "cell_type": "code",
      "source": [
        "L1=[28,12,13,22,25,29,12,24,24,14]\n",
        "L2=[16,20,17,20,12,14,20,11,22,10]\n"
      ],
      "metadata": {
        "id": "hSRgNhEo3SD3"
      },
      "execution_count": null,
      "outputs": []
    },
    {
      "cell_type": "code",
      "source": [
        "import numpy as np\n",
        "common_elements = np.intersect1d(L1,L2)\n",
        "print(common_elements)"
      ],
      "metadata": {
        "colab": {
          "base_uri": "https://localhost:8080/"
        },
        "id": "B1WEKNxB3paC",
        "outputId": "6e8cb82c-3168-45ec-cda7-0c7a0d3d9018"
      },
      "execution_count": null,
      "outputs": [
        {
          "output_type": "stream",
          "name": "stdout",
          "text": [
            "[12 14 22]\n"
          ]
        }
      ]
    },
    {
      "cell_type": "code",
      "source": [
        "import numpy as np\n",
        "res = np.array(L2) \n",
        "unique_res = np.unique(res) \n",
        "print(\"Unique elements of the list using numpy.unique():\\n\")\n",
        "print(unique_res)\n"
      ],
      "metadata": {
        "colab": {
          "base_uri": "https://localhost:8080/"
        },
        "id": "BPB6rSeU7uW0",
        "outputId": "4183e11b-8a3f-4640-ad96-c15e20eadfaf"
      },
      "execution_count": null,
      "outputs": [
        {
          "output_type": "stream",
          "name": "stdout",
          "text": [
            "Unique elements of the list using numpy.unique():\n",
            "\n",
            "[10 11 12 14 16 17 20 22]\n"
          ]
        }
      ]
    },
    {
      "cell_type": "code",
      "source": [
        "import numpy as np\n",
        "res = np.array(L1) \n",
        "unique_res = np.unique(res) \n",
        "print(\"Unique elements of the list using numpy.unique():\\n\")\n",
        "print(unique_res)"
      ],
      "metadata": {
        "colab": {
          "base_uri": "https://localhost:8080/"
        },
        "id": "mBa6kcVI8clu",
        "outputId": "efe5db99-1fd0-452b-92f1-f00f7d8ea71b"
      },
      "execution_count": null,
      "outputs": [
        {
          "output_type": "stream",
          "name": "stdout",
          "text": [
            "Unique elements of the list using numpy.unique():\n",
            "\n",
            "[13 24 25 28 29]\n"
          ]
        }
      ]
    },
    {
      "cell_type": "code",
      "source": [
        "print(\"minimum number in L1\",min(L1))\n",
        "print(\"minimum number in L2\",min(L2))\n",
        "print(\"maximum number in L1\",max(L1))\n",
        "print(\"maximum number in L2\",max(L2))"
      ],
      "metadata": {
        "colab": {
          "base_uri": "https://localhost:8080/"
        },
        "id": "VF_Jh8kD9VV4",
        "outputId": "91290db0-46e7-45df-bd59-b589b1330aae"
      },
      "execution_count": null,
      "outputs": [
        {
          "output_type": "stream",
          "name": "stdout",
          "text": [
            "minimum number in L1 13\n",
            "minimum number in L2 10\n",
            "maximum number in L1 29\n",
            "maximum number in L2 22\n"
          ]
        }
      ]
    },
    {
      "cell_type": "code",
      "source": [
        "print(\"sum of L1 and L2\",L1+L2)"
      ],
      "metadata": {
        "colab": {
          "base_uri": "https://localhost:8080/"
        },
        "id": "-dhLSG4P9mXZ",
        "outputId": "4903dedd-73bc-4d36-9b4d-5ae0399aa2b4"
      },
      "execution_count": null,
      "outputs": [
        {
          "output_type": "stream",
          "name": "stdout",
          "text": [
            "sum of L1 and L2 [28, 13, 25, 29, 24, 24, 16, 20, 17, 20, 12, 14, 20, 11, 22, 10]\n"
          ]
        }
      ]
    },
    {
      "cell_type": "code",
      "source": [
        "#WAP to create a list of 100 random numbers between 100 and 900. Count and print the: \n",
        "#(i) All odd numbers\n",
        "#(ii) All even numbers\n",
        "#(iii) All prime numbers"
      ],
      "metadata": {
        "id": "1_-4cqc--T9x"
      },
      "execution_count": null,
      "outputs": []
    },
    {
      "cell_type": "code",
      "source": [
        "import random\n",
        "num = 100\n",
        "start = 100\n",
        "end =900\n",
        "def Rand(start, end, num):\n",
        "    res = []\n",
        " \n",
        "    for j in range(num):\n",
        "        res.append(random.randint(start, end))\n",
        " \n",
        "    return res\n",
        "print(Rand(start, end, num))"
      ],
      "metadata": {
        "colab": {
          "base_uri": "https://localhost:8080/"
        },
        "id": "lg27pzTo-ovQ",
        "outputId": "9c5d5658-fa44-4792-b204-3d24b591c4f6"
      },
      "execution_count": null,
      "outputs": [
        {
          "output_type": "stream",
          "name": "stdout",
          "text": [
            "[874, 882, 678, 512, 842, 394, 778, 517, 873, 305, 862, 375, 596, 390, 398, 669, 181, 883, 688, 288, 551, 260, 687, 347, 247, 887, 489, 573, 529, 192, 482, 703, 706, 533, 382, 844, 856, 607, 671, 798, 320, 780, 316, 841, 500, 200, 731, 322, 609, 628, 728, 441, 305, 573, 491, 113, 701, 791, 639, 138, 894, 144, 187, 810, 716, 716, 183, 862, 121, 592, 357, 149, 472, 818, 848, 397, 866, 806, 687, 225, 507, 754, 558, 275, 605, 689, 742, 457, 859, 853, 803, 616, 726, 577, 140, 781, 548, 398, 280, 223]\n"
          ]
        }
      ]
    },
    {
      "cell_type": "code",
      "source": [
        "L=[874, 882, 678, 512, 842, 394, 778, 517, 873, 305, 862, 375, 596, 390, 398, 669, 181, 883, 688, 288, 551, 260, 687, 347, 247, 887, 489, 573, 529, 192, 482, 703, 706, 533, 382, 844, 856, 607, 671, 798, 320, 780, 316, 841, 500, 200, 731, 322, 609, 628, 728, 441, 305, 573, 491, 113, 701, 791, 639, 138, 894, 144, 187, 810, 716, 716, 183, 862, 121, 592, 357, 149, 472, 818, 848, 397, 866, 806, 687, 225, 507, 754, 558, 275, 605, 689, 742, 457, 859, 853, 803, 616, 726, 577, 140, 781, 548, 398, 280, 223]\n",
        "\n",
        "\n",
        "for i in L:\n",
        "    if(i%2!=0):\n",
        "      print(\"number is odd \")\n",
        "    else:\n",
        "      print(\"number is even\")\n",
        " "
      ],
      "metadata": {
        "colab": {
          "base_uri": "https://localhost:8080/"
        },
        "id": "h5r9G35L_J62",
        "outputId": "a490b453-4067-481a-fe32-3bcfb4c04b96"
      },
      "execution_count": null,
      "outputs": [
        {
          "output_type": "stream",
          "name": "stdout",
          "text": [
            "number is even\n",
            "number is even\n",
            "number is even\n",
            "number is even\n",
            "number is even\n",
            "number is even\n",
            "number is even\n",
            "number is odd \n",
            "number is odd \n",
            "number is odd \n",
            "number is even\n",
            "number is odd \n",
            "number is even\n",
            "number is even\n",
            "number is even\n",
            "number is odd \n",
            "number is odd \n",
            "number is odd \n",
            "number is even\n",
            "number is even\n",
            "number is odd \n",
            "number is even\n",
            "number is odd \n",
            "number is odd \n",
            "number is odd \n",
            "number is odd \n",
            "number is odd \n",
            "number is odd \n",
            "number is odd \n",
            "number is even\n",
            "number is even\n",
            "number is odd \n",
            "number is even\n",
            "number is odd \n",
            "number is even\n",
            "number is even\n",
            "number is even\n",
            "number is odd \n",
            "number is odd \n",
            "number is even\n",
            "number is even\n",
            "number is even\n",
            "number is even\n",
            "number is odd \n",
            "number is even\n",
            "number is even\n",
            "number is odd \n",
            "number is even\n",
            "number is odd \n",
            "number is even\n",
            "number is even\n",
            "number is odd \n",
            "number is odd \n",
            "number is odd \n",
            "number is odd \n",
            "number is odd \n",
            "number is odd \n",
            "number is odd \n",
            "number is odd \n",
            "number is even\n",
            "number is even\n",
            "number is even\n",
            "number is odd \n",
            "number is even\n",
            "number is even\n",
            "number is even\n",
            "number is odd \n",
            "number is even\n",
            "number is odd \n",
            "number is even\n",
            "number is odd \n",
            "number is odd \n",
            "number is even\n",
            "number is even\n",
            "number is even\n",
            "number is odd \n",
            "number is even\n",
            "number is even\n",
            "number is odd \n",
            "number is odd \n",
            "number is odd \n",
            "number is even\n",
            "number is even\n",
            "number is odd \n",
            "number is odd \n",
            "number is odd \n",
            "number is even\n",
            "number is odd \n",
            "number is odd \n",
            "number is odd \n",
            "number is odd \n",
            "number is even\n",
            "number is even\n",
            "number is odd \n",
            "number is even\n",
            "number is odd \n",
            "number is even\n",
            "number is even\n",
            "number is even\n",
            "number is odd \n"
          ]
        }
      ]
    },
    {
      "cell_type": "code",
      "source": [
        "Prime=[]\n",
        "for i in L:\n",
        "  c=0\n",
        "  for j in range(1,i):\n",
        "    if i%j==0:\n",
        "      c=c+1\n",
        "  if c==1:\n",
        "    Prime.append(i)\n",
        "    print(Prime)\n"
      ],
      "metadata": {
        "colab": {
          "base_uri": "https://localhost:8080/"
        },
        "id": "TJ8XTNAl_47F",
        "outputId": "eabaf6af-c689-4732-e8c2-13abd3e74b53"
      },
      "execution_count": null,
      "outputs": [
        {
          "output_type": "stream",
          "name": "stdout",
          "text": [
            "[181]\n",
            "[181, 883]\n",
            "[181, 883, 347]\n",
            "[181, 883, 347, 887]\n",
            "[181, 883, 347, 887, 607]\n",
            "[181, 883, 347, 887, 607, 491]\n",
            "[181, 883, 347, 887, 607, 491, 113]\n",
            "[181, 883, 347, 887, 607, 491, 113, 701]\n",
            "[181, 883, 347, 887, 607, 491, 113, 701, 149]\n",
            "[181, 883, 347, 887, 607, 491, 113, 701, 149, 397]\n",
            "[181, 883, 347, 887, 607, 491, 113, 701, 149, 397, 457]\n",
            "[181, 883, 347, 887, 607, 491, 113, 701, 149, 397, 457, 859]\n",
            "[181, 883, 347, 887, 607, 491, 113, 701, 149, 397, 457, 859, 853]\n",
            "[181, 883, 347, 887, 607, 491, 113, 701, 149, 397, 457, 859, 853, 577]\n",
            "[181, 883, 347, 887, 607, 491, 113, 701, 149, 397, 457, 859, 853, 577, 223]\n"
          ]
        }
      ]
    },
    {
      "cell_type": "code",
      "source": [
        "#D is a dictionary defined as D={1:\"One\",2:\"Two\",3:\"Three\",4:\"Four\", 5:\"Five\"}. \n",
        "#WAP to read all the keys and values from dictionary and write to the file in the given below format.\n",
        "#Key1, Value1\n",
        "#Key2, Value2\n",
        "#Key3, Value3"
      ],
      "metadata": {
        "id": "AfZrdGh4IU6K"
      },
      "execution_count": null,
      "outputs": []
    },
    {
      "cell_type": "code",
      "source": [
        "D={1:\"One\",2:\"Two\",3:\"Three\",4:\"Four\", 5:\"Five\"}"
      ],
      "metadata": {
        "id": "pkbNWZN4IaS4"
      },
      "execution_count": null,
      "outputs": []
    },
    {
      "cell_type": "code",
      "source": [
        "print(\"Original dictionary is : \" + str(D))\n",
        "print(\"Dict key-value are : \")\n",
        "for key, value in D.items():\n",
        "    print(key, value)"
      ],
      "metadata": {
        "colab": {
          "base_uri": "https://localhost:8080/"
        },
        "id": "lSpBSgHhIf_n",
        "outputId": "099272f4-a8fd-4cad-ed12-106c06db79d0"
      },
      "execution_count": null,
      "outputs": [
        {
          "output_type": "stream",
          "name": "stdout",
          "text": [
            "Original dictionary is : {1: 'One', 2: 'Two', 3: 'Three', 4: 'Four', 5: 'Five'}\n",
            "Dict key-value are : \n",
            "1 One\n",
            "2 Two\n",
            "3 Three\n",
            "4 Four\n",
            "5 Five\n"
          ]
        }
      ]
    },
    {
      "cell_type": "code",
      "source": [
        "##L is a list defined as L={\"One\",\"Two\",\"Three\",\"Four\",\"Five\"}.\n",
        "##WAP to count the length of reach element from a list and write to the file in the given below format:\n",
        "##One, 3\n",
        "##Two, 3\n",
        "##Four, 4"
      ],
      "metadata": {
        "id": "fpteNwCNJVqj"
      },
      "execution_count": null,
      "outputs": []
    },
    {
      "cell_type": "code",
      "source": [
        "L=['One','Two','Three','Four','Five']\n",
        " \n",
        "# printing original list\n",
        "print(\"The original list is : \" + str(L))\n",
        " \n",
        "# Elements Lengths in List\n",
        "# Using list comprehension + len()\n",
        "res = [len(sub) if type(sub) != int else 1 for sub in L]\n",
        " \n",
        "# printing result\n",
        "print(\"The element sizes in order are : \" + str(res))"
      ],
      "metadata": {
        "colab": {
          "base_uri": "https://localhost:8080/"
        },
        "id": "YT1Y1hWmONFh",
        "outputId": "81317d45-c533-41bb-e85d-29372255204f"
      },
      "execution_count": null,
      "outputs": [
        {
          "output_type": "stream",
          "name": "stdout",
          "text": [
            "The original list is : ['One', 'Two', 'Three', 'Four', 'Five']\n",
            "The element sizes in order are : [3, 3, 5, 4, 4]\n"
          ]
        }
      ]
    },
    {
      "cell_type": "code",
      "source": [
        "#Q9. Write to the file 100 random strings whose length between 10 and 15\n",
        "import string as s\n",
        "import random as r\n",
        "print (\"String        --> \",s.ascii_letters)\n",
        "for i in range(50):\n",
        "  N=r.sample(s.ascii_letters,10)\n",
        "  print (\"Selected Char --> \",N)\n",
        "  N1=\"\".join(N)\n",
        "  print (\"passwd1       --> \",N1)"
      ],
      "metadata": {
        "colab": {
          "base_uri": "https://localhost:8080/"
        },
        "id": "ECGwbBmePgT1",
        "outputId": "ef063b81-47af-48ab-cbba-ee086527cd74"
      },
      "execution_count": null,
      "outputs": [
        {
          "output_type": "stream",
          "name": "stdout",
          "text": [
            "String        -->  abcdefghijklmnopqrstuvwxyzABCDEFGHIJKLMNOPQRSTUVWXYZ\n",
            "Selected Char -->  ['y', 'l', 'M', 'R', 'I', 'Q', 'V', 'k', 'z', 'P']\n",
            "passwd1       -->  ylMRIQVkzP\n",
            "Selected Char -->  ['X', 'K', 'r', 'n', 'h', 'I', 'f', 'G', 'B', 'F']\n",
            "passwd1       -->  XKrnhIfGBF\n",
            "Selected Char -->  ['s', 'A', 'b', 'H', 'V', 'n', 'E', 'P', 'L', 'J']\n",
            "passwd1       -->  sAbHVnEPLJ\n",
            "Selected Char -->  ['K', 'w', 'z', 'Y', 'P', 'Q', 'u', 'm', 'R', 'C']\n",
            "passwd1       -->  KwzYPQumRC\n",
            "Selected Char -->  ['T', 'y', 'm', 'N', 'a', 'v', 'b', 'z', 'i', 'Z']\n",
            "passwd1       -->  TymNavbziZ\n",
            "Selected Char -->  ['F', 'E', 'p', 'L', 'U', 'G', 'e', 'j', 'J', 'z']\n",
            "passwd1       -->  FEpLUGejJz\n",
            "Selected Char -->  ['q', 'I', 'b', 'r', 'W', 'M', 'm', 'w', 'x', 'e']\n",
            "passwd1       -->  qIbrWMmwxe\n",
            "Selected Char -->  ['F', 'P', 'Z', 'M', 'Y', 'S', 'r', 'K', 'J', 'q']\n",
            "passwd1       -->  FPZMYSrKJq\n",
            "Selected Char -->  ['V', 'z', 'Z', 'D', 'y', 'X', 'R', 'j', 'P', 'I']\n",
            "passwd1       -->  VzZDyXRjPI\n",
            "Selected Char -->  ['A', 'v', 'N', 'M', 'K', 'H', 'm', 'w', 'D', 'V']\n",
            "passwd1       -->  AvNMKHmwDV\n",
            "Selected Char -->  ['f', 'P', 'c', 'S', 'm', 'k', 'D', 'X', 'J', 'r']\n",
            "passwd1       -->  fPcSmkDXJr\n",
            "Selected Char -->  ['G', 'U', 'B', 'g', 'y', 'D', 'n', 'd', 't', 'Y']\n",
            "passwd1       -->  GUBgyDndtY\n",
            "Selected Char -->  ['P', 'y', 'C', 'F', 'x', 'A', 's', 'X', 'B', 'S']\n",
            "passwd1       -->  PyCFxAsXBS\n",
            "Selected Char -->  ['g', 'K', 'o', 'H', 'r', 'G', 'm', 't', 'x', 'W']\n",
            "passwd1       -->  gKoHrGmtxW\n",
            "Selected Char -->  ['F', 'L', 'j', 'V', 'I', 'S', 'n', 'e', 'l', 'T']\n",
            "passwd1       -->  FLjVISnelT\n",
            "Selected Char -->  ['m', 'b', 'Q', 'j', 'r', 'S', 'c', 'i', 'K', 't']\n",
            "passwd1       -->  mbQjrSciKt\n",
            "Selected Char -->  ['J', 'C', 'K', 'q', 'T', 'b', 'k', 'g', 'h', 'E']\n",
            "passwd1       -->  JCKqTbkghE\n",
            "Selected Char -->  ['L', 'q', 'b', 'r', 'P', 'Y', 'o', 'u', 'C', 'W']\n",
            "passwd1       -->  LqbrPYouCW\n",
            "Selected Char -->  ['U', 'F', 'q', 'v', 'u', 'H', 'B', 'R', 'h', 't']\n",
            "passwd1       -->  UFqvuHBRht\n",
            "Selected Char -->  ['z', 'b', 'S', 'p', 'A', 't', 'D', 'e', 'q', 'd']\n",
            "passwd1       -->  zbSpAtDeqd\n",
            "Selected Char -->  ['G', 'Z', 'p', 'w', 'z', 'T', 'F', 'R', 'X', 'd']\n",
            "passwd1       -->  GZpwzTFRXd\n",
            "Selected Char -->  ['g', 'S', 'W', 'j', 'r', 'h', 't', 'q', 'L', 'Q']\n",
            "passwd1       -->  gSWjrhtqLQ\n",
            "Selected Char -->  ['u', 'g', 'b', 'l', 'L', 'y', 'A', 'J', 'Y', 'M']\n",
            "passwd1       -->  ugblLyAJYM\n",
            "Selected Char -->  ['N', 'y', 'M', 'w', 'v', 'S', 'X', 'e', 'j', 'G']\n",
            "passwd1       -->  NyMwvSXejG\n",
            "Selected Char -->  ['O', 'J', 'z', 'S', 'V', 'G', 'l', 't', 'd', 'P']\n",
            "passwd1       -->  OJzSVGltdP\n",
            "Selected Char -->  ['q', 'r', 'O', 'H', 'b', 'Q', 'i', 'X', 'd', 'e']\n",
            "passwd1       -->  qrOHbQiXde\n",
            "Selected Char -->  ['X', 't', 'q', 'l', 'j', 'K', 'Z', 'a', 'x', 'b']\n",
            "passwd1       -->  XtqljKZaxb\n",
            "Selected Char -->  ['x', 'E', 'm', 'A', 'd', 'S', 'l', 'V', 'q', 'Y']\n",
            "passwd1       -->  xEmAdSlVqY\n",
            "Selected Char -->  ['D', 'v', 'M', 'W', 'x', 'e', 'o', 'f', 'i', 'A']\n",
            "passwd1       -->  DvMWxeofiA\n",
            "Selected Char -->  ['a', 'J', 'P', 'r', 'Z', 'j', 'p', 'F', 'u', 'w']\n",
            "passwd1       -->  aJPrZjpFuw\n",
            "Selected Char -->  ['N', 'f', 'J', 'W', 'i', 'H', 'n', 'b', 'e', 'V']\n",
            "passwd1       -->  NfJWiHnbeV\n",
            "Selected Char -->  ['D', 'G', 'c', 'l', 'U', 'h', 'r', 'u', 'W', 'f']\n",
            "passwd1       -->  DGclUhruWf\n",
            "Selected Char -->  ['E', 'f', 'h', 'b', 'j', 'r', 'y', 'i', 'W', 'N']\n",
            "passwd1       -->  EfhbjryiWN\n",
            "Selected Char -->  ['g', 'Q', 'r', 'w', 'K', 'F', 'U', 'm', 'c', 'q']\n",
            "passwd1       -->  gQrwKFUmcq\n",
            "Selected Char -->  ['f', 'p', 'S', 'C', 'F', 'T', 'J', 'a', 'H', 'Z']\n",
            "passwd1       -->  fpSCFTJaHZ\n",
            "Selected Char -->  ['C', 'D', 'c', 'u', 'G', 'q', 'X', 'i', 'O', 's']\n",
            "passwd1       -->  CDcuGqXiOs\n",
            "Selected Char -->  ['H', 'z', 'k', 'i', 'S', 'R', 'Z', 'C', 'Q', 'o']\n",
            "passwd1       -->  HzkiSRZCQo\n",
            "Selected Char -->  ['q', 'J', 'i', 'G', 's', 'P', 'C', 't', 'a', 'H']\n",
            "passwd1       -->  qJiGsPCtaH\n",
            "Selected Char -->  ['P', 'i', 'E', 'e', 'A', 'S', 'n', 'Q', 'g', 't']\n",
            "passwd1       -->  PiEeASnQgt\n",
            "Selected Char -->  ['B', 'S', 'R', 'K', 's', 'r', 'C', 'L', 'k', 'q']\n",
            "passwd1       -->  BSRKsrCLkq\n",
            "Selected Char -->  ['P', 'n', 'l', 'X', 'i', 'R', 'W', 'k', 'Q', 'p']\n",
            "passwd1       -->  PnlXiRWkQp\n",
            "Selected Char -->  ['d', 'A', 'M', 'H', 'K', 'J', 'e', 'L', 'B', 'G']\n",
            "passwd1       -->  dAMHKJeLBG\n",
            "Selected Char -->  ['F', 'w', 'g', 'T', 'u', 'D', 'I', 'S', 'C', 'Y']\n",
            "passwd1       -->  FwgTuDISCY\n",
            "Selected Char -->  ['O', 'K', 'z', 'h', 'D', 'g', 'a', 'B', 'P', 'F']\n",
            "passwd1       -->  OKzhDgaBPF\n",
            "Selected Char -->  ['o', 'v', 'a', 'i', 'V', 'I', 'J', 'y', 'Q', 'd']\n",
            "passwd1       -->  ovaiVIJyQd\n",
            "Selected Char -->  ['d', 'S', 'l', 'i', 'C', 'f', 'u', 'V', 'X', 'W']\n",
            "passwd1       -->  dSliCfuVXW\n",
            "Selected Char -->  ['J', 'b', 'e', 'z', 'm', 'K', 'y', 'B', 'f', 'E']\n",
            "passwd1       -->  JbezmKyBfE\n",
            "Selected Char -->  ['X', 'c', 'b', 'V', 'x', 'L', 'H', 'O', 'C', 'f']\n",
            "passwd1       -->  XcbVxLHOCf\n",
            "Selected Char -->  ['j', 'd', 'l', 'r', 'g', 'D', 'U', 'S', 'G', 'V']\n",
            "passwd1       -->  jdlrgDUSGV\n",
            "Selected Char -->  ['j', 'D', 'R', 'u', 'T', 'H', 'P', 'b', 'z', 'c']\n",
            "passwd1       -->  jDRuTHPbzc\n"
          ]
        }
      ]
    },
    {
      "cell_type": "code",
      "source": [
        "import string as s\n",
        "import random as r\n",
        "print (\"String        --> \",s.ascii_letters)\n",
        "for i in range(50):\n",
        "  N11=r.sample(s.ascii_letters,15)\n",
        "  print (\"Selected Char --> \",N11)\n",
        "  N2=\"\".join(N11)\n",
        "  print (\"passwd1       --> \",N2)"
      ],
      "metadata": {
        "colab": {
          "base_uri": "https://localhost:8080/"
        },
        "id": "hEJrGGKHqJRB",
        "outputId": "e3d4daa0-cf73-411b-d6f9-0508baef3592"
      },
      "execution_count": null,
      "outputs": [
        {
          "output_type": "stream",
          "name": "stdout",
          "text": [
            "String        -->  abcdefghijklmnopqrstuvwxyzABCDEFGHIJKLMNOPQRSTUVWXYZ\n",
            "Selected Char -->  ['O', 't', 'l', 'w', 'e', 'j', 'J', 'C', 'a', 'A', 's', 'B', 'q', 'K', 'm']\n",
            "passwd1       -->  OtlwejJCaAsBqKm\n",
            "Selected Char -->  ['t', 'W', 'q', 'a', 'p', 'Q', 'A', 'J', 'x', 'g', 'j', 'Y', 'U', 'K', 'z']\n",
            "passwd1       -->  tWqapQAJxgjYUKz\n",
            "Selected Char -->  ['P', 'S', 'q', 'x', 'f', 'c', 'O', 's', 'H', 'z', 'Y', 'p', 'o', 'k', 'T']\n",
            "passwd1       -->  PSqxfcOsHzYpokT\n",
            "Selected Char -->  ['p', 'a', 'v', 'Z', 't', 'D', 'y', 'r', 'l', 'F', 'b', 'z', 'B', 'X', 'f']\n",
            "passwd1       -->  pavZtDyrlFbzBXf\n",
            "Selected Char -->  ['U', 'J', 'T', 'n', 'R', 'c', 'B', 'D', 'r', 'S', 'b', 'C', 'I', 'g', 'v']\n",
            "passwd1       -->  UJTnRcBDrSbCIgv\n",
            "Selected Char -->  ['Z', 'F', 't', 'h', 'K', 'G', 'B', 'a', 'v', 'U', 'z', 'f', 'N', 'J', 'O']\n",
            "passwd1       -->  ZFthKGBavUzfNJO\n",
            "Selected Char -->  ['E', 'Z', 'o', 'Q', 'P', 'C', 'v', 'b', 'k', 'T', 'j', 'i', 'p', 'n', 'u']\n",
            "passwd1       -->  EZoQPCvbkTjipnu\n",
            "Selected Char -->  ['i', 'D', 'Y', 'M', 'w', 'A', 'b', 'n', 'G', 'V', 'p', 'Z', 'h', 'a', 'K']\n",
            "passwd1       -->  iDYMwAbnGVpZhaK\n",
            "Selected Char -->  ['X', 't', 'W', 'G', 'Z', 'u', 'T', 'M', 'y', 'w', 'N', 'R', 'K', 'a', 'J']\n",
            "passwd1       -->  XtWGZuTMywNRKaJ\n",
            "Selected Char -->  ['P', 's', 'C', 'g', 'E', 'L', 'h', 'D', 'O', 'f', 'S', 'T', 'p', 'H', 'j']\n",
            "passwd1       -->  PsCgELhDOfSTpHj\n",
            "Selected Char -->  ['O', 'G', 'Q', 'r', 'y', 'S', 't', 'T', 'R', 'A', 'n', 'c', 'D', 'F', 'h']\n",
            "passwd1       -->  OGQryStTRAncDFh\n",
            "Selected Char -->  ['g', 'S', 'I', 'T', 'Z', 'p', 'J', 'v', 'V', 'l', 'r', 'a', 'w', 'h', 'B']\n",
            "passwd1       -->  gSITZpJvVlrawhB\n",
            "Selected Char -->  ['f', 'w', 'y', 'A', 'n', 'X', 'I', 'h', 'm', 'W', 'B', 'i', 's', 'p', 'v']\n",
            "passwd1       -->  fwyAnXIhmWBispv\n",
            "Selected Char -->  ['c', 'S', 'z', 'v', 'r', 'J', 'x', 'X', 'Y', 't', 'o', 'F', 'H', 'y', 'B']\n",
            "passwd1       -->  cSzvrJxXYtoFHyB\n",
            "Selected Char -->  ['t', 'r', 'F', 'I', 'D', 'E', 'i', 'x', 'U', 'y', 'g', 'j', 'S', 'z', 'X']\n",
            "passwd1       -->  trFIDEixUygjSzX\n",
            "Selected Char -->  ['H', 'y', 's', 'I', 'f', 'l', 'm', 'x', 'U', 'T', 'M', 'J', 'C', 'W', 'k']\n",
            "passwd1       -->  HysIflmxUTMJCWk\n",
            "Selected Char -->  ['B', 's', 'W', 'w', 'z', 'G', 'J', 'p', 'j', 'C', 't', 'H', 'k', 'A', 'V']\n",
            "passwd1       -->  BsWwzGJpjCtHkAV\n",
            "Selected Char -->  ['k', 'a', 'I', 'X', 'S', 'c', 'y', 'u', 'f', 'w', 'V', 'n', 'i', 'o', 'C']\n",
            "passwd1       -->  kaIXScyufwVnioC\n",
            "Selected Char -->  ['s', 'F', 'z', 'H', 'L', 'T', 'I', 'n', 'i', 'j', 'x', 'a', 'S', 'P', 'c']\n",
            "passwd1       -->  sFzHLTInijxaSPc\n",
            "Selected Char -->  ['d', 'H', 'm', 's', 'X', 'a', 'q', 'P', 'J', 'U', 'y', 'f', 'c', 'r', 'h']\n",
            "passwd1       -->  dHmsXaqPJUyfcrh\n",
            "Selected Char -->  ['s', 'C', 'F', 'b', 'Q', 't', 'K', 'U', 'w', 'v', 'c', 'y', 'd', 'O', 'X']\n",
            "passwd1       -->  sCFbQtKUwvcydOX\n",
            "Selected Char -->  ['U', 'V', 'R', 'p', 'T', 'v', 'z', 'o', 'S', 'E', 'W', 'M', 'r', 'c', 'x']\n",
            "passwd1       -->  UVRpTvzoSEWMrcx\n",
            "Selected Char -->  ['m', 'Y', 'U', 'c', 'R', 'V', 'q', 'O', 'I', 'x', 'K', 't', 'n', 'F', 'f']\n",
            "passwd1       -->  mYUcRVqOIxKtnFf\n",
            "Selected Char -->  ['i', 's', 'l', 'J', 'y', 'n', 'r', 'E', 'p', 'I', 'q', 'T', 'V', 'U', 'o']\n",
            "passwd1       -->  islJynrEpIqTVUo\n",
            "Selected Char -->  ['R', 'g', 'w', 'a', 'r', 'v', 'P', 'T', 'd', 'M', 'l', 'e', 'y', 'Q', 'p']\n",
            "passwd1       -->  RgwarvPTdMleyQp\n",
            "Selected Char -->  ['K', 'a', 'e', 's', 'W', 't', 'n', 'l', 'V', 'p', 'I', 'k', 'h', 'R', 'H']\n",
            "passwd1       -->  KaesWtnlVpIkhRH\n",
            "Selected Char -->  ['A', 'q', 'I', 'P', 'w', 'c', 'l', 'X', 'a', 'h', 'Q', 'H', 'N', 's', 'z']\n",
            "passwd1       -->  AqIPwclXahQHNsz\n",
            "Selected Char -->  ['b', 'G', 'Q', 'e', 'V', 'Z', 'M', 'A', 'w', 'W', 'f', 'g', 'v', 'i', 'T']\n",
            "passwd1       -->  bGQeVZMAwWfgviT\n",
            "Selected Char -->  ['X', 'Z', 'E', 'U', 'n', 'o', 'H', 'G', 'A', 'W', 'l', 'B', 'c', 'R', 'F']\n",
            "passwd1       -->  XZEUnoHGAWlBcRF\n",
            "Selected Char -->  ['Q', 'f', 'x', 'i', 'r', 'D', 'I', 'y', 'C', 'a', 'X', 'V', 'F', 'Z', 'M']\n",
            "passwd1       -->  QfxirDIyCaXVFZM\n",
            "Selected Char -->  ['t', 'g', 'p', 'W', 'A', 'I', 'J', 'e', 'd', 'K', 'i', 'z', 'H', 'F', 'j']\n",
            "passwd1       -->  tgpWAIJedKizHFj\n",
            "Selected Char -->  ['e', 'p', 'c', 'l', 'Q', 'W', 'N', 'Y', 'q', 'X', 'x', 'R', 'B', 'o', 'M']\n",
            "passwd1       -->  epclQWNYqXxRBoM\n",
            "Selected Char -->  ['e', 'R', 'Y', 'u', 'n', 'E', 'T', 'I', 'q', 'Q', 'w', 'd', 'c', 'X', 'C']\n",
            "passwd1       -->  eRYunETIqQwdcXC\n",
            "Selected Char -->  ['r', 'v', 'R', 'g', 'i', 'o', 'I', 'G', 'Z', 'H', 'C', 'P', 'X', 'D', 'W']\n",
            "passwd1       -->  rvRgioIGZHCPXDW\n",
            "Selected Char -->  ['O', 'v', 'u', 'y', 'e', 'F', 'Y', 'E', 'x', 'r', 'H', 'c', 'q', 'B', 'Z']\n",
            "passwd1       -->  OvuyeFYExrHcqBZ\n",
            "Selected Char -->  ['b', 's', 'T', 'j', 'p', 'S', 'r', 'x', 'D', 'z', 'f', 'R', 't', 'i', 'm']\n",
            "passwd1       -->  bsTjpSrxDzfRtim\n",
            "Selected Char -->  ['W', 'c', 'v', 's', 'k', 'R', 'a', 'D', 'h', 'z', 'b', 'O', 'L', 'e', 'q']\n",
            "passwd1       -->  WcvskRaDhzbOLeq\n",
            "Selected Char -->  ['M', 'A', 'x', 'k', 'd', 'a', 'm', 'O', 'J', 'j', 'G', 'Z', 'W', 'f', 'L']\n",
            "passwd1       -->  MAxkdamOJjGZWfL\n",
            "Selected Char -->  ['S', 'A', 'W', 'D', 'p', 't', 'O', 'B', 'f', 'e', 'h', 'l', 'u', 'x', 'G']\n",
            "passwd1       -->  SAWDptOBfehluxG\n",
            "Selected Char -->  ['D', 'G', 'P', 'g', 'v', 'i', 'b', 'X', 'x', 'u', 'c', 'f', 'I', 'Q', 'Y']\n",
            "passwd1       -->  DGPgvibXxucfIQY\n",
            "Selected Char -->  ['t', 'I', 'H', 'S', 'w', 'T', 'l', 'i', 'j', 'J', 'a', 'o', 'P', 'd', 'm']\n",
            "passwd1       -->  tIHSwTlijJaoPdm\n",
            "Selected Char -->  ['a', 'L', 'V', 'z', 'Y', 'W', 'C', 'H', 'i', 'Q', 'K', 'c', 'X', 'e', 'E']\n",
            "passwd1       -->  aLVzYWCHiQKcXeE\n",
            "Selected Char -->  ['I', 'Z', 'n', 'C', 'p', 'X', 'l', 'P', 's', 'K', 'b', 'S', 'Y', 'f', 'v']\n",
            "passwd1       -->  IZnCpXlPsKbSYfv\n",
            "Selected Char -->  ['U', 'w', 'T', 'y', 'R', 'u', 'E', 'I', 'r', 'l', 'k', 'N', 'e', 'x', 'a']\n",
            "passwd1       -->  UwTyRuEIrlkNexa\n",
            "Selected Char -->  ['A', 't', 'u', 'z', 'w', 'U', 'a', 'T', 'F', 'e', 'v', 'l', 'h', 'P', 'Z']\n",
            "passwd1       -->  AtuzwUaTFevlhPZ\n",
            "Selected Char -->  ['H', 'j', 'Z', 'k', 'u', 'P', 'o', 'a', 'Y', 'n', 'N', 'g', 'U', 'w', 'C']\n",
            "passwd1       -->  HjZkuPoaYnNgUwC\n",
            "Selected Char -->  ['s', 'b', 'W', 'A', 'T', 'y', 'Q', 'S', 'Y', 'U', 'p', 'v', 'H', 'o', 'B']\n",
            "passwd1       -->  sbWATyQSYUpvHoB\n",
            "Selected Char -->  ['C', 'w', 'J', 'K', 'r', 'H', 'V', 'P', 'G', 'S', 'c', 'Z', 'E', 'i', 'b']\n",
            "passwd1       -->  CwJKrHVPGScZEib\n",
            "Selected Char -->  ['c', 'Y', 'X', 'Q', 'l', 'k', 'm', 'n', 't', 'o', 'G', 'r', 'M', 'y', 'B']\n",
            "passwd1       -->  cYXQlkmntoGrMyB\n",
            "Selected Char -->  ['o', 'B', 'd', 'D', 'U', 'm', 'T', 'J', 'l', 'A', 'i', 'N', 'I', 'f', 'n']\n",
            "passwd1       -->  oBdDUmTJlAiNIfn\n"
          ]
        }
      ]
    },
    {
      "cell_type": "code",
      "source": [
        "fp=open('result.txt','w')\n",
        "import string as s\n",
        "import random as r\n",
        "print (\"String        --> \",s.ascii_letters)\n",
        "for i in range(50):\n",
        "  N11=r.sample(s.ascii_letters,15)\n",
        "  print (\"Selected Char --> \",N11)\n",
        "  N2=\"\".join(N11)\n",
        "  print (\"passwd1       --> \",N2)\t\n",
        "  fp.write(str(N2) +\"\\n\")# Open the file in writing mode\n",
        "\t# Writing to the file line by line\n",
        "fp.close()\n",
        "\n",
        "print (\"Writing done !! \\nOpen result.txt to view the content\")\n",
        "\n"
      ],
      "metadata": {
        "id": "6sZJQZaRrN90",
        "colab": {
          "base_uri": "https://localhost:8080/"
        },
        "outputId": "19ce0d36-0891-40ec-f58b-c9fc95cf9648"
      },
      "execution_count": null,
      "outputs": [
        {
          "output_type": "stream",
          "name": "stdout",
          "text": [
            "String        -->  abcdefghijklmnopqrstuvwxyzABCDEFGHIJKLMNOPQRSTUVWXYZ\n",
            "Selected Char -->  ['R', 'p', 'V', 'Y', 'F', 'W', 'X', 'I', 'n', 'H', 'K', 'J', 'a', 'N', 'k']\n",
            "passwd1       -->  RpVYFWXInHKJaNk\n",
            "Selected Char -->  ['J', 'n', 'U', 'j', 'e', 'r', 'u', 'Y', 'Z', 'C', 'k', 'w', 'M', 'g', 'Q']\n",
            "passwd1       -->  JnUjeruYZCkwMgQ\n",
            "Selected Char -->  ['d', 'M', 'F', 'i', 'w', 'f', 'L', 'B', 'C', 'H', 'r', 'K', 'Y', 'V', 'a']\n",
            "passwd1       -->  dMFiwfLBCHrKYVa\n",
            "Selected Char -->  ['Y', 'X', 'i', 'K', 'h', 'n', 'N', 'r', 'C', 'T', 'g', 'y', 'B', 'F', 'x']\n",
            "passwd1       -->  YXiKhnNrCTgyBFx\n",
            "Selected Char -->  ['u', 'f', 'h', 'q', 'P', 'o', 'B', 'Q', 'R', 'w', 'O', 'a', 'z', 'p', 't']\n",
            "passwd1       -->  ufhqPoBQRwOazpt\n",
            "Selected Char -->  ['g', 'y', 'a', 'j', 'J', 'Q', 'c', 'u', 'R', 'U', 'C', 'G', 'T', 'e', 'r']\n",
            "passwd1       -->  gyajJQcuRUCGTer\n",
            "Selected Char -->  ['n', 'g', 'R', 'u', 'G', 'A', 'L', 'Q', 'a', 'd', 'V', 'C', 'h', 'T', 'r']\n",
            "passwd1       -->  ngRuGALQadVChTr\n",
            "Selected Char -->  ['f', 'g', 'F', 'M', 'i', 'e', 'v', 'B', 'T', 'V', 'C', 'N', 'j', 'E', 'R']\n",
            "passwd1       -->  fgFMievBTVCNjER\n",
            "Selected Char -->  ['n', 'R', 'O', 'N', 'A', 't', 'E', 'Y', 'I', 'c', 'o', 'T', 'M', 'X', 'F']\n",
            "passwd1       -->  nRONAtEYIcoTMXF\n",
            "Selected Char -->  ['r', 'x', 'f', 'Q', 'G', 'N', 'A', 't', 'R', 'v', 'L', 'c', 'E', 'B', 'h']\n",
            "passwd1       -->  rxfQGNAtRvLcEBh\n",
            "Selected Char -->  ['P', 'I', 'g', 'u', 'Q', 'v', 'n', 'z', 'm', 'X', 'Y', 'H', 'C', 'M', 'd']\n",
            "passwd1       -->  PIguQvnzmXYHCMd\n",
            "Selected Char -->  ['c', 'w', 't', 'l', 'Q', 'S', 'J', 'p', 'I', 'P', 'x', 'D', 'j', 'A', 'z']\n",
            "passwd1       -->  cwtlQSJpIPxDjAz\n",
            "Selected Char -->  ['e', 'x', 'v', 't', 'X', 'h', 'F', 'i', 'Z', 'Q', 'S', 'j', 'U', 'f', 'K']\n",
            "passwd1       -->  exvtXhFiZQSjUfK\n",
            "Selected Char -->  ['x', 'u', 'O', 'R', 'B', 'i', 's', 'P', 'T', 'Y', 'U', 'W', 'p', 'q', 'c']\n",
            "passwd1       -->  xuORBisPTYUWpqc\n",
            "Selected Char -->  ['h', 'r', 'Z', 'W', 'b', 'n', 'k', 'Q', 'z', 'D', 'P', 'C', 'i', 'q', 'R']\n",
            "passwd1       -->  hrZWbnkQzDPCiqR\n",
            "Selected Char -->  ['j', 'l', 'S', 'p', 'g', 'o', 'M', 'e', 'P', 'I', 'y', 'w', 's', 'O', 'z']\n",
            "passwd1       -->  jlSpgoMePIywsOz\n",
            "Selected Char -->  ['k', 'L', 'B', 'N', 'D', 'H', 'K', 'y', 'd', 'M', 'r', 'p', 'Y', 'F', 'X']\n",
            "passwd1       -->  kLBNDHKydMrpYFX\n",
            "Selected Char -->  ['I', 'g', 'J', 'U', 'n', 'K', 'Y', 'A', 'O', 'j', 'G', 'Q', 'x', 'B', 'E']\n",
            "passwd1       -->  IgJUnKYAOjGQxBE\n",
            "Selected Char -->  ['c', 'Z', 'W', 'E', 'i', 'D', 'o', 'r', 'z', 'C', 'Y', 'J', 'O', 'N', 'M']\n",
            "passwd1       -->  cZWEiDorzCYJONM\n",
            "Selected Char -->  ['q', 'R', 'x', 'O', 'G', 'i', 'y', 'L', 'r', 'J', 'F', 'S', 'E', 'k', 'u']\n",
            "passwd1       -->  qRxOGiyLrJFSEku\n",
            "Selected Char -->  ['J', 'Z', 'k', 'x', 'K', 'U', 'R', 'a', 'Y', 'V', 'P', 'v', 'm', 'n', 'i']\n",
            "passwd1       -->  JZkxKURaYVPvmni\n",
            "Selected Char -->  ['X', 'I', 'u', 's', 'V', 't', 'o', 'd', 'C', 'P', 'B', 'w', 'M', 'j', 'b']\n",
            "passwd1       -->  XIusVtodCPBwMjb\n",
            "Selected Char -->  ['v', 'B', 'C', 'm', 'G', 'a', 'j', 'A', 'D', 'u', 't', 'H', 'p', 'l', 'r']\n",
            "passwd1       -->  vBCmGajADutHplr\n",
            "Selected Char -->  ['c', 'l', 'g', 'U', 'H', 'h', 'X', 'V', 'p', 'A', 'S', 'x', 'G', 'J', 'o']\n",
            "passwd1       -->  clgUHhXVpASxGJo\n",
            "Selected Char -->  ['M', 'P', 'H', 'i', 'e', 'r', 'K', 't', 'm', 'x', 'k', 'Z', 'E', 'D', 'O']\n",
            "passwd1       -->  MPHierKtmxkZEDO\n",
            "Selected Char -->  ['q', 'C', 'N', 'T', 'M', 'e', 'V', 'x', 'W', 'Y', 'Q', 'c', 'F', 'B', 'U']\n",
            "passwd1       -->  qCNTMeVxWYQcFBU\n",
            "Selected Char -->  ['l', 'E', 'e', 'u', 'A', 'v', 'C', 'f', 'T', 'r', 't', 'I', 'w', 'b', 'U']\n",
            "passwd1       -->  lEeuAvCfTrtIwbU\n",
            "Selected Char -->  ['j', 'U', 'Z', 'z', 'r', 'g', 'R', 'F', 'X', 'N', 'M', 't', 'i', 'd', 'q']\n",
            "passwd1       -->  jUZzrgRFXNMtidq\n",
            "Selected Char -->  ['O', 'n', 'y', 's', 't', 'Q', 'Y', 'p', 'E', 'J', 'a', 'q', 'S', 'R', 'k']\n",
            "passwd1       -->  OnystQYpEJaqSRk\n",
            "Selected Char -->  ['c', 'm', 'z', 'f', 'g', 'N', 'J', 'Q', 'G', 'E', 'A', 'e', 'I', 'D', 'M']\n",
            "passwd1       -->  cmzfgNJQGEAeIDM\n",
            "Selected Char -->  ['f', 's', 'S', 'H', 'F', 'h', 'B', 'e', 'D', 'W', 'J', 'n', 'A', 'O', 'L']\n",
            "passwd1       -->  fsSHFhBeDWJnAOL\n",
            "Selected Char -->  ['n', 'P', 'M', 'S', 'D', 'x', 'G', 'L', 'w', 'C', 'k', 'X', 'O', 'K', 'g']\n",
            "passwd1       -->  nPMSDxGLwCkXOKg\n",
            "Selected Char -->  ['m', 'i', 'E', 'b', 'R', 'Z', 'c', 'x', 'y', 'G', 'H', 'v', 's', 'M', 'a']\n",
            "passwd1       -->  miEbRZcxyGHvsMa\n",
            "Selected Char -->  ['u', 'a', 'p', 'v', 'S', 's', 'r', 'H', 'h', 'm', 'i', 'W', 'd', 'q', 'c']\n",
            "passwd1       -->  uapvSsrHhmiWdqc\n",
            "Selected Char -->  ['q', 'B', 'V', 'Y', 's', 'a', 'A', 'W', 'Z', 'U', 'P', 'd', 'w', 'h', 'k']\n",
            "passwd1       -->  qBVYsaAWZUPdwhk\n",
            "Selected Char -->  ['P', 'a', 'u', 'U', 'q', 'w', 'M', 'c', 'O', 'n', 'b', 'o', 'f', 'g', 'V']\n",
            "passwd1       -->  PauUqwMcOnbofgV\n",
            "Selected Char -->  ['J', 'C', 'V', 'L', 'U', 'i', 's', 'R', 'm', 'F', 'l', 'M', 'f', 'h', 'z']\n",
            "passwd1       -->  JCVLUisRmFlMfhz\n",
            "Selected Char -->  ['O', 'L', 'H', 'l', 'h', 'i', 'V', 'W', 'o', 'A', 'G', 'M', 'Y', 'K', 'e']\n",
            "passwd1       -->  OLHlhiVWoAGMYKe\n",
            "Selected Char -->  ['e', 'w', 'L', 'G', 'D', 'U', 'I', 'F', 'M', 'm', 'n', 'B', 'J', 'c', 'W']\n",
            "passwd1       -->  ewLGDUIFMmnBJcW\n",
            "Selected Char -->  ['N', 't', 'v', 'w', 'b', 'B', 'C', 'A', 'F', 'U', 'Q', 'T', 'k', 'e', 'O']\n",
            "passwd1       -->  NtvwbBCAFUQTkeO\n",
            "Selected Char -->  ['V', 'Z', 'k', 'w', 'm', 'i', 'T', 'P', 'K', 'x', 'r', 'L', 'f', 'g', 'z']\n",
            "passwd1       -->  VZkwmiTPKxrLfgz\n",
            "Selected Char -->  ['t', 'u', 'd', 'p', 'J', 'e', 'b', 'N', 'U', 'L', 'Z', 'C', 'R', 'n', 'a']\n",
            "passwd1       -->  tudpJebNULZCRna\n",
            "Selected Char -->  ['h', 'S', 'x', 'y', 'F', 'U', 'r', 'q', 'f', 'd', 'T', 'M', 'C', 'u', 'g']\n",
            "passwd1       -->  hSxyFUrqfdTMCug\n",
            "Selected Char -->  ['H', 'B', 'U', 'f', 'Y', 'c', 'M', 'F', 'u', 'k', 'N', 'm', 'd', 'o', 'X']\n",
            "passwd1       -->  HBUfYcMFukNmdoX\n",
            "Selected Char -->  ['X', 'U', 'P', 'Q', 'b', 'F', 'I', 'N', 'y', 'v', 'u', 'h', 'T', 'i', 'J']\n",
            "passwd1       -->  XUPQbFINyvuhTiJ\n",
            "Selected Char -->  ['Z', 'd', 'P', 'i', 'f', 'Y', 'H', 'r', 'm', 'R', 'a', 'g', 'C', 'U', 'l']\n",
            "passwd1       -->  ZdPifYHrmRagCUl\n",
            "Selected Char -->  ['a', 't', 'y', 'k', 'Z', 'J', 'V', 'A', 'H', 'Q', 'R', 'g', 'X', 'T', 'B']\n",
            "passwd1       -->  atykZJVAHQRgXTB\n",
            "Selected Char -->  ['P', 'm', 'i', 'D', 'h', 'G', 'r', 'U', 'C', 'J', 'n', 'w', 'b', 't', 'Z']\n",
            "passwd1       -->  PmiDhGrUCJnwbtZ\n",
            "Selected Char -->  ['X', 'b', 'E', 'Y', 'P', 'G', 'f', 'V', 'W', 'c', 'I', 'O', 'z', 'l', 'M']\n",
            "passwd1       -->  XbEYPGfVWcIOzlM\n",
            "Selected Char -->  ['T', 'c', 'R', 'u', 'v', 'L', 'B', 'r', 'G', 'P', 'W', 'D', 'V', 'j', 'K']\n",
            "passwd1       -->  TcRuvLBrGPWDVjK\n",
            "Writing done !! \n",
            "Open result.txt to view the content\n"
          ]
        }
      ]
    },
    {
      "cell_type": "code",
      "source": [
        "fp=open('tex.txt','w')\n",
        "import string as s\n",
        "import random as r\n",
        "print (\"String        --> \",s.ascii_letters)\n",
        "for i in range(50):\n",
        "  N11=r.sample(s.ascii_letters,10)\n",
        "  print (\"Selected Char --> \",N11)\n",
        "  N2=\"\".join(N11)\n",
        "  print (\"passwd1       --> \",N2)\t\n",
        "  fp.write(str(N2) +\"\\n\")# Open the file in writing mode\n",
        "\t# Writing to the file line by line\n",
        "fp.close()\n",
        "\n",
        "print (\"Writing done !! \\nOpen tex.txt to view the content\")\n"
      ],
      "metadata": {
        "colab": {
          "base_uri": "https://localhost:8080/"
        },
        "id": "iZKYyImiUz3x",
        "outputId": "d5dd3fab-fdeb-42cc-9747-f50c0fe809aa"
      },
      "execution_count": null,
      "outputs": [
        {
          "output_type": "stream",
          "name": "stdout",
          "text": [
            "String        -->  abcdefghijklmnopqrstuvwxyzABCDEFGHIJKLMNOPQRSTUVWXYZ\n",
            "Selected Char -->  ['B', 'Y', 'A', 'T', 'v', 'x', 'L', 'y', 'u', 'j']\n",
            "passwd1       -->  BYATvxLyuj\n",
            "Selected Char -->  ['G', 'h', 'Q', 'F', 's', 'W', 'y', 'f', 'e', 'b']\n",
            "passwd1       -->  GhQFsWyfeb\n",
            "Selected Char -->  ['q', 'l', 'x', 'B', 'v', 'o', 'F', 'z', 'r', 'e']\n",
            "passwd1       -->  qlxBvoFzre\n",
            "Selected Char -->  ['H', 'i', 'F', 'N', 'f', 'q', 'r', 't', 'w', 'Y']\n",
            "passwd1       -->  HiFNfqrtwY\n",
            "Selected Char -->  ['r', 'm', 'Q', 'o', 'q', 'Y', 'x', 'O', 'X', 'j']\n",
            "passwd1       -->  rmQoqYxOXj\n",
            "Selected Char -->  ['c', 'Y', 'n', 'y', 'B', 'l', 'F', 'N', 'H', 'X']\n",
            "passwd1       -->  cYnyBlFNHX\n",
            "Selected Char -->  ['Z', 'V', 'E', 's', 'k', 'n', 'O', 'P', 'z', 'o']\n",
            "passwd1       -->  ZVEsknOPzo\n",
            "Selected Char -->  ['e', 'V', 'b', 'f', 'w', 'Y', 'h', 'k', 'l', 'i']\n",
            "passwd1       -->  eVbfwYhkli\n",
            "Selected Char -->  ['G', 'X', 'H', 'K', 'F', 'f', 'm', 'Q', 'd', 'y']\n",
            "passwd1       -->  GXHKFfmQdy\n",
            "Selected Char -->  ['e', 'M', 'B', 'm', 'g', 'L', 'n', 'K', 'D', 'd']\n",
            "passwd1       -->  eMBmgLnKDd\n",
            "Selected Char -->  ['c', 'n', 'z', 'y', 'e', 'a', 'M', 'D', 'Y', 's']\n",
            "passwd1       -->  cnzyeaMDYs\n",
            "Selected Char -->  ['J', 'a', 'v', 't', 'Z', 'e', 'L', 'P', 'U', 'q']\n",
            "passwd1       -->  JavtZeLPUq\n",
            "Selected Char -->  ['R', 'Z', 'K', 'Q', 'J', 'F', 'h', 'j', 'q', 'U']\n",
            "passwd1       -->  RZKQJFhjqU\n",
            "Selected Char -->  ['q', 'x', 't', 'R', 'P', 'e', 'T', 'G', 'C', 'B']\n",
            "passwd1       -->  qxtRPeTGCB\n",
            "Selected Char -->  ['r', 'X', 'j', 'c', 'u', 'C', 'K', 'M', 'T', 'G']\n",
            "passwd1       -->  rXjcuCKMTG\n",
            "Selected Char -->  ['S', 'g', 'i', 'B', 'J', 'r', 'I', 'P', 'm', 'c']\n",
            "passwd1       -->  SgiBJrIPmc\n",
            "Selected Char -->  ['m', 'A', 'N', 'X', 'j', 'd', 'e', 'W', 'c', 'g']\n",
            "passwd1       -->  mANXjdeWcg\n",
            "Selected Char -->  ['R', 'j', 'G', 'X', 's', 'L', 'K', 'z', 'v', 'w']\n",
            "passwd1       -->  RjGXsLKzvw\n",
            "Selected Char -->  ['w', 'c', 'E', 'L', 'l', 'g', 'S', 'I', 'z', 'a']\n",
            "passwd1       -->  wcELlgSIza\n",
            "Selected Char -->  ['p', 'N', 'r', 'h', 'X', 'u', 'U', 'y', 'H', 'o']\n",
            "passwd1       -->  pNrhXuUyHo\n",
            "Selected Char -->  ['p', 'i', 'T', 'G', 'r', 'v', 'X', 'l', 'e', 'F']\n",
            "passwd1       -->  piTGrvXleF\n",
            "Selected Char -->  ['t', 's', 'C', 'K', 'g', 'a', 'X', 'k', 'z', 'E']\n",
            "passwd1       -->  tsCKgaXkzE\n",
            "Selected Char -->  ['v', 'r', 'e', 'g', 'o', 'd', 'D', 'B', 's', 'W']\n",
            "passwd1       -->  vregodDBsW\n",
            "Selected Char -->  ['R', 'C', 'c', 'q', 'H', 'k', 'y', 'P', 'B', 'u']\n",
            "passwd1       -->  RCcqHkyPBu\n",
            "Selected Char -->  ['k', 'r', 'O', 'x', 'c', 'q', 'W', 'b', 'e', 'B']\n",
            "passwd1       -->  krOxcqWbeB\n",
            "Selected Char -->  ['a', 'q', 'S', 'h', 'L', 'm', 'T', 'G', 's', 'B']\n",
            "passwd1       -->  aqShLmTGsB\n",
            "Selected Char -->  ['x', 'k', 'f', 'z', 'F', 'n', 'X', 'N', 'O', 'a']\n",
            "passwd1       -->  xkfzFnXNOa\n",
            "Selected Char -->  ['Y', 'b', 'U', 'l', 'Q', 'z', 'w', 'M', 'g', 'x']\n",
            "passwd1       -->  YbUlQzwMgx\n",
            "Selected Char -->  ['k', 'K', 'c', 'Y', 'R', 's', 'l', 'd', 'C', 'X']\n",
            "passwd1       -->  kKcYRsldCX\n",
            "Selected Char -->  ['U', 'i', 'e', 'x', 't', 'Z', 'o', 'M', 'v', 'j']\n",
            "passwd1       -->  UiextZoMvj\n",
            "Selected Char -->  ['d', 'K', 'k', 'G', 'o', 'L', 'j', 'V', 'b', 'r']\n",
            "passwd1       -->  dKkGoLjVbr\n",
            "Selected Char -->  ['n', 'Z', 'a', 'O', 'S', 'f', 'e', 'L', 'R', 'r']\n",
            "passwd1       -->  nZaOSfeLRr\n",
            "Selected Char -->  ['j', 'i', 'F', 'P', 'N', 'L', 'h', 'y', 'E', 'f']\n",
            "passwd1       -->  jiFPNLhyEf\n",
            "Selected Char -->  ['S', 'm', 'b', 'C', 'w', 'c', 'h', 'V', 'q', 'E']\n",
            "passwd1       -->  SmbCwchVqE\n",
            "Selected Char -->  ['j', 'Q', 'l', 'R', 'K', 'C', 'a', 'w', 'A', 'L']\n",
            "passwd1       -->  jQlRKCawAL\n",
            "Selected Char -->  ['K', 'i', 'c', 'T', 'o', 'W', 'F', 'H', 'J', 'l']\n",
            "passwd1       -->  KicToWFHJl\n",
            "Selected Char -->  ['T', 'b', 'f', 'I', 'i', 'y', 'P', 'B', 'd', 'g']\n",
            "passwd1       -->  TbfIiyPBdg\n",
            "Selected Char -->  ['Q', 'X', 'A', 'i', 'N', 'M', 'n', 'c', 'y', 'I']\n",
            "passwd1       -->  QXAiNMncyI\n",
            "Selected Char -->  ['y', 'f', 'K', 'E', 'c', 'Q', 'u', 'U', 'm', 'x']\n",
            "passwd1       -->  yfKEcQuUmx\n",
            "Selected Char -->  ['t', 'a', 'y', 'q', 'g', 'h', 'R', 'U', 'C', 'c']\n",
            "passwd1       -->  tayqghRUCc\n",
            "Selected Char -->  ['M', 'B', 'G', 'y', 'i', 'c', 'X', 'Q', 'F', 'S']\n",
            "passwd1       -->  MBGyicXQFS\n",
            "Selected Char -->  ['x', 'Y', 'g', 'J', 'M', 'I', 'i', 'u', 'n', 'X']\n",
            "passwd1       -->  xYgJMIiunX\n",
            "Selected Char -->  ['r', 'Q', 'v', 'T', 'x', 'l', 'N', 't', 'g', 'n']\n",
            "passwd1       -->  rQvTxlNtgn\n",
            "Selected Char -->  ['z', 'Q', 'c', 'C', 'a', 'x', 'n', 'j', 'P', 'w']\n",
            "passwd1       -->  zQcCaxnjPw\n",
            "Selected Char -->  ['u', 'y', 'R', 'U', 'W', 'k', 'j', 'e', 'V', 'I']\n",
            "passwd1       -->  uyRUWkjeVI\n",
            "Selected Char -->  ['b', 'g', 'X', 'o', 'm', 'q', 'k', 'r', 'H', 'J']\n",
            "passwd1       -->  bgXomqkrHJ\n",
            "Selected Char -->  ['v', 'Z', 'F', 'G', 'X', 'b', 'f', 'p', 'T', 'o']\n",
            "passwd1       -->  vZFGXbfpTo\n",
            "Selected Char -->  ['l', 'Y', 'e', 'd', 'h', 'c', 'T', 'i', 'g', 'O']\n",
            "passwd1       -->  lYedhcTigO\n",
            "Selected Char -->  ['b', 's', 'p', 'z', 'g', 't', 'k', 'H', 'u', 'D']\n",
            "passwd1       -->  bspzgtkHuD\n",
            "Selected Char -->  ['l', 'y', 'i', 'T', 'j', 'H', 'v', 'W', 'o', 'D']\n",
            "passwd1       -->  lyiTjHvWoD\n",
            "Writing done !! \n",
            "Open tex.txt to view the content\n"
          ]
        }
      ]
    },
    {
      "cell_type": "code",
      "source": [],
      "metadata": {
        "id": "3F5GS_fHU7Fd"
      },
      "execution_count": null,
      "outputs": []
    }
  ]
}